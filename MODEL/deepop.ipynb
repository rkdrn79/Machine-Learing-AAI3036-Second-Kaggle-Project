{
 "cells": [
  {
   "cell_type": "code",
   "execution_count": 1,
   "metadata": {},
   "outputs": [],
   "source": [
    "import pandas as pd\n",
    "import numpy as np\n",
    "import sklearn\n",
    "import os\n",
    "import random\n",
    "\n",
    "from sklearn.model_selection import StratifiedKFold , KFold"
   ]
  },
  {
   "cell_type": "code",
   "execution_count": 9,
   "metadata": {},
   "outputs": [],
   "source": [
    "# Reproducibility setup\n",
    "RANDOM_SEED = 42\n",
    "os.environ['PYTHONHASHSEED'] = str(RANDOM_SEED)\n",
    "random.seed(RANDOM_SEED)\n",
    "np.random.seed(RANDOM_SEED)"
   ]
  },
  {
   "cell_type": "code",
   "execution_count": 10,
   "metadata": {},
   "outputs": [],
   "source": [
    "train = pd.read_csv(\"/home/mingu/ML/2024_project_2/DATASET/train.csv\").drop(\"~\", axis = 1) #경로지정\n",
    "test = pd.read_csv(\"/home/mingu/ML/2024_project_2/DATASET/test.csv\").drop(\"No\", axis = 1)\n",
    "sample_sub = pd.read_csv(\"/home/mingu/ML/2024_project_2/DATASET/submission.csv\")"
   ]
  },
  {
   "cell_type": "code",
   "execution_count": 22,
   "metadata": {},
   "outputs": [],
   "source": [
    "X_train = train.drop(\"Death\", axis = 1)\n",
    "y_train = train[\"Death\"]\n",
    "\n",
    "X_train, X_val, y_train, y_val = sklearn.model_selection.train_test_split(X_train, y_train, test_size = 0.2, random_state = RANDOM_SEED)\n",
    "\n",
    "X_train = np.array(X_train)\n",
    "X_val = np.array(X_val)\n",
    "y_train = np.array(y_train)\n",
    "y_val = np.array(y_val)"
   ]
  },
  {
   "cell_type": "code",
   "execution_count": 23,
   "metadata": {},
   "outputs": [
    {
     "name": "stdout",
     "output_type": "stream",
     "text": [
      "Start Training...\n",
      "ensemble size: 1\n",
      "MLPnet(\n",
      "  (network): Sequential(\n",
      "    (0): LinearBlock(\n",
      "      (linear): Linear(in_features=32, out_features=100, bias=False)\n",
      "      (act_layer): ReLU()\n",
      "    )\n",
      "    (1): LinearBlock(\n",
      "      (linear): Linear(in_features=100, out_features=50, bias=False)\n",
      "      (act_layer): ReLU()\n",
      "    )\n",
      "    (2): LinearBlock(\n",
      "      (linear): Linear(in_features=50, out_features=1, bias=False)\n",
      "      (act_layer): Identity()\n",
      "    )\n",
      "  )\n",
      ")\n",
      "epoch  1, training loss: 2.541996, time: 1.1s\n",
      "epoch 10, training loss: 2.504512, time: 0.3s\n",
      "epoch 20, training loss: 2.514640, time: 0.3s\n",
      "epoch 30, training loss: 2.512762, time: 0.3s\n",
      "epoch 40, training loss: 2.501343, time: 0.3s\n",
      "epoch 50, training loss: 2.522172, time: 0.3s\n",
      "epoch 60, training loss: 2.480604, time: 0.3s\n",
      "epoch 70, training loss: 2.525209, time: 0.3s\n",
      "epoch 80, training loss: 2.498986, time: 0.3s\n",
      "epoch 90, training loss: 2.489035, time: 0.3s\n",
      "epoch100, training loss: 2.446587, time: 0.3s\n",
      "Start Inference on the training data...\n"
     ]
    },
    {
     "name": "stderr",
     "output_type": "stream",
     "text": [
      "testing: 100%|██████████| 125/125 [00:00<00:00, 1723.95it/s]\n",
      "testing: 100%|██████████| 32/32 [00:00<00:00, 1717.04it/s]\n"
     ]
    }
   ],
   "source": [
    "from deepod.models.tabular import DevNet\n",
    "clf = DevNet()\n",
    "clf.fit(X_train, y=y_train) # semi_y uses 1 for known anomalies, and 0 for unlabeled data\n",
    "scores = clf.decision_function(X_val)"
   ]
  },
  {
   "cell_type": "code",
   "execution_count": 34,
   "metadata": {},
   "outputs": [
    {
     "data": {
      "text/plain": [
       "array([0.04289176, 0.03201326, 0.06326905, ..., 0.03203309, 0.04831305,\n",
       "       0.02656266])"
      ]
     },
     "execution_count": 34,
     "metadata": {},
     "output_type": "execute_result"
    }
   ],
   "source": [
    "scores"
   ]
  },
  {
   "cell_type": "code",
   "execution_count": null,
   "metadata": {},
   "outputs": [],
   "source": []
  }
 ],
 "metadata": {
  "kernelspec": {
   "display_name": "ML",
   "language": "python",
   "name": "python3"
  },
  "language_info": {
   "codemirror_mode": {
    "name": "ipython",
    "version": 3
   },
   "file_extension": ".py",
   "mimetype": "text/x-python",
   "name": "python",
   "nbconvert_exporter": "python",
   "pygments_lexer": "ipython3",
   "version": "3.10.14"
  }
 },
 "nbformat": 4,
 "nbformat_minor": 2
}
