{
 "cells": [
  {
   "cell_type": "code",
   "execution_count": 1,
   "metadata": {},
   "outputs": [],
   "source": [
    "import pandas as pd\n",
    "import numpy as np\n",
    "\n",
    "import matplotlib.pyplot as plt"
   ]
  },
  {
   "cell_type": "code",
   "execution_count": 2,
   "metadata": {},
   "outputs": [],
   "source": [
    "train = pd.read_csv(\"/Users/mingu/Desktop/CODING/2024_1 Machine Learning/Kaggle Project 2/DATASET/train.csv\").drop(\"~\", axis = 1) #경로지정\n",
    "test = pd.read_csv(\"/Users/mingu/Desktop/CODING/2024_1 Machine Learning/Kaggle Project 2/DATASET/test.csv\").drop(\"No\", axis = 1)\n",
    "sample_sub = pd.read_csv(\"/Users/mingu/Desktop/CODING/2024_1 Machine Learning/Kaggle Project 2/DATASET/submission.csv\")"
   ]
  },
  {
   "cell_type": "code",
   "execution_count": 3,
   "metadata": {},
   "outputs": [],
   "source": [
    "def preprocessing(data):\n",
    "    # Lung cancer TNM stage\n",
    "    #T\n",
    "    data.loc[(data['M1a'] == 1 ) | (data['M1b'] == 1) | (data['M1c'] == 1), 'M0' ] = 0 \n",
    "    data.loc[(data['M1a'] == 0) & (data['M1b'] == 0) & (data['M1c'] == 0),'M0'] = 1\n",
    "\n",
    "    #N\n",
    "    data.loc[(data['N1'] == 1 ) | (data['N2'] == 1) | (data['N3'] == 1), 'N0'] = 0\n",
    "    data.loc[(data['N1'] == 0) & (data['N2'] == 0) & (data['N3'] == 0), 'N0'] = 1\n",
    "    #M\n",
    "    \n",
    "    #stage\n",
    "    data['TNM_stage'] = ''\n",
    "\n",
    "    stage_map = {\n",
    "\n",
    "        ('T1', 'N0'): 'IA', ('T1', 'N1'): 'IIA', ('T1', 'N2'): 'IIB', ('T1', 'N3'): 'IIIA', \n",
    "        ('T1a', 'N0'): 'IA', ('T1a', 'N1'): 'IIA', ('T1a', 'N2'): 'IIB', ('T1a', 'N3'): 'IIIA',\n",
    "        ('T1b', 'N0'): 'IA', ('T1b', 'N1'): 'IIA', ('T1b', 'N2'): 'IIB', ('T1b', 'N3'): 'IIIA', \n",
    "        ('T1c', 'N0'): 'IA', ('T1c', 'N1'): 'IIA', ('T1c', 'N2'): 'IIB', ('T1c', 'N3'): 'IIIA', \n",
    "        ('T2', 'N0'): 'IB', ('T2', 'N1'): 'IIB', ('T2', 'N2'): 'IIIA', ('T2', 'N3'): 'IIIB',\n",
    "        ('T2a', 'N0'): 'IB', ('T2a', 'N1'): 'IIB', ('T2a', 'N2'): 'IIIA', ('T2a', 'N3'): 'IIIB', \n",
    "        ('T2b', 'N0'): 'IIA', ('T2b', 'N1'): 'IIB', ('T2b', 'N2'): 'IIIA', ('T2b', 'N3'): 'IIIB', \n",
    "        ('T3', 'N0'): 'IIB', ('T3', 'N1'): 'IIIA', ('T3', 'N2'): 'IIIA', ('T3', 'N3'): 'IIIB',\n",
    "        ('T4', 'N0'): 'IIIA', ('T4', 'N1'): 'IIIA', ('T4', 'N2'): 'IIIB', ('T4', 'N3'): 'IIIC'\n",
    "    }\n",
    "\n",
    "    for t in ['T1', 'T1a', 'T1b', 'T1c', 'T2', 'T2a', 'T2b', 'T3', 'T4']:\n",
    "        for n in ['N0', 'N1', 'N2', 'N3']:\n",
    "            mask = (data[t] == 1) & (data[n] == 1)\n",
    "            target = stage_map.get((t, n), 'Invalid TNM')\n",
    "            data.loc[mask, 'TNM_stage'] = target\n",
    "            if target == 'Invalid TNM':\n",
    "                print((t, n))\n",
    "\n",
    "    data.loc[data['M1a'] == 1, 'TNM_stage'] = 'IVA'\n",
    "    data.loc[data['M1b'] == 1, 'TNM_stage'] = 'IVA'\n",
    "    data.loc[data['M1c'] == 1, 'TNM_stage'] = 'IVB'\n",
    "\n",
    "    stage_encode = {'' : 0, 'IA' : 1, \"IB\" : 2, \"IIA\" : 3, \"IIB\" : 4 , \"IIIA\" : 5, \"IIIB\" : 6, \"IIIC\": 7, \"IVA\": 8, \"IVB\":9}\n",
    "    stage_encode2 = {0 : 0, 1:1, 2:1, 3:2, 4:2, 5:3, 6:3, 7:3, 8:4, 9:4}\n",
    "    data['TNM_stage'] = data['TNM_stage'].map(stage_encode)\n",
    "    data['TNM_bigstage'] = data['TNM_stage'].map(stage_encode2)\n",
    "    \n",
    "    # Surgery\n",
    "    data['Therapy_count'] = data['Operation'] + data['Chemotherapy'] + data['Radiation Therapy']\n",
    "\n",
    "    # Other\n",
    "    data['BMI'] = data['Weight'] / (data['Height'] / 100) ** 2\n",
    "\n",
    "    # EGFR mutation Detection encoding 99 -> 0\n",
    "    data['EGFR mutation Detection'] = data['EGFR mutation Detection'].replace(99, 2)\n",
    "\n",
    "    # Type of Drink encoding 99 -> 0\n",
    "    data['Type of Drink'] = data['Type of Drink'].replace(99, 0)\n",
    "\n",
    "    # Mu\n",
    "    return data"
   ]
  },
  {
   "cell_type": "code",
   "execution_count": 4,
   "metadata": {},
   "outputs": [],
   "source": [
    "train = preprocessing(train)\n",
    "test = preprocessing(test)"
   ]
  },
  {
   "cell_type": "markdown",
   "metadata": {},
   "source": [
    "# XGBOOST"
   ]
  },
  {
   "cell_type": "code",
   "execution_count": 7,
   "metadata": {},
   "outputs": [
    {
     "name": "stdout",
     "output_type": "stream",
     "text": [
      "0.782\n"
     ]
    },
    {
     "data": {
      "text/plain": [
       "array([[1562,   11],\n",
       "       [ 425,    2]])"
      ]
     },
     "execution_count": 7,
     "metadata": {},
     "output_type": "execute_result"
    }
   ],
   "source": [
    "from xgboost import XGBClassifier\n",
    "from sklearn.model_selection import train_test_split\n",
    "\n",
    "X = train.drop(\"Death\", axis = 1)\n",
    "y = train[\"Death\"]\n",
    "\n",
    "X_train, X_val, y_train, y_val = train_test_split(X, y, test_size = 0.2, random_state = 42)\n",
    "\n",
    "xgb = XGBClassifier(n_estimators = 900, learning_rate = 0.02, max_depth = 5, random_state = 2)\n",
    "xgb.fit(X_train, y_train)\n",
    "\n",
    "from sklearn.metrics import accuracy_score, confusion_matrix\n",
    "\n",
    "y_pred = xgb.predict(X_val)\n",
    "print(accuracy_score(y_val, y_pred))\n",
    "confusion_matrix(y_val, y_pred)"
   ]
  },
  {
   "cell_type": "code",
   "execution_count": 5,
   "metadata": {},
   "outputs": [
    {
     "name": "stdout",
     "output_type": "stream",
     "text": [
      "34\n"
     ]
    }
   ],
   "source": [
    "from xgboost import XGBClassifier\n",
    "\n",
    "X = train.drop(\"Death\", axis = 1)\n",
    "y = train[\"Death\"]\n",
    "\n",
    "xgb = XGBClassifier(n_estimators = 900, learning_rate = 0.02, max_depth = 5, random_state = 2)\n",
    "xgb.fit(X, y)\n",
    "print(sum(xgb.predict(test)))"
   ]
  },
  {
   "cell_type": "code",
   "execution_count": 6,
   "metadata": {},
   "outputs": [
    {
     "data": {
      "text/plain": [
       "Death\n",
       "0    4966\n",
       "1      34\n",
       "Name: count, dtype: int64"
      ]
     },
     "execution_count": 6,
     "metadata": {},
     "output_type": "execute_result"
    }
   ],
   "source": [
    "pred = xgb.predict(test)\n",
    "sample_sub[\"Death\"] = pred\n",
    "sample_sub[\"Death\"].value_counts()"
   ]
  },
  {
   "cell_type": "code",
   "execution_count": 44,
   "metadata": {},
   "outputs": [],
   "source": [
    "sample_sub.to_csv(\"/Users/mingu/Desktop/CODING/2024_1 Machine Learning/Kaggle Project 2/SUBMISSION/5_15_2.csv\", index = False)"
   ]
  }
 ],
 "metadata": {
  "kernelspec": {
   "display_name": "ag",
   "language": "python",
   "name": "python3"
  },
  "language_info": {
   "codemirror_mode": {
    "name": "ipython",
    "version": 3
   },
   "file_extension": ".py",
   "mimetype": "text/x-python",
   "name": "python",
   "nbconvert_exporter": "python",
   "pygments_lexer": "ipython3",
   "version": "3.10.14"
  }
 },
 "nbformat": 4,
 "nbformat_minor": 2
}
